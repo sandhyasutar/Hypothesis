{
 "cells": [
  {
   "cell_type": "code",
   "execution_count": 2,
   "id": "47148f26",
   "metadata": {},
   "outputs": [],
   "source": [
    "import pandas as pd\n",
    "from scipy import stats"
   ]
  },
  {
   "cell_type": "code",
   "execution_count": 3,
   "id": "c3631ea3",
   "metadata": {},
   "outputs": [],
   "source": [
    "Unit_A =pd.Series([6.809,6.4376,6.9157,7.3012,7.4488,7.3871,6.8755,7.0621,6.684,6.8236,7.393,7.5169,\n",
    "                   6.9246,6.9256,6.5797,6.8394,6.597,7.2705,7.2828,7.3495,6.9438,7.156,6.5341,7.2854,\n",
    "                   6.9952,6.8568,7.2163,6.6801,6.9431,7.0852,6.7794,7.2783,7.1561,7.3943,6.9405])"
   ]
  },
  {
   "cell_type": "code",
   "execution_count": 4,
   "id": "c1dc0d90",
   "metadata": {},
   "outputs": [],
   "source": [
    "Unit_B = pd.Series([6.7703,7.5093,6.73,6.7878,7.1522,6.811,7.2212,6.6606,7.2402,7.0503,6.881,7.4059,\n",
    "                    6.7652,6.038,7.1581,7.024,6.6672,7.4314,7.307,6.7478,6.8889,7.422,6.5217,7.1688,\n",
    "                    6.7594,6.9399,7.0133,6.9182,6.3346,7.5459,7.0992,7.118,6.6965,6.578,7.3875])"
   ]
  },
  {
   "cell_type": "code",
   "execution_count": 11,
   "id": "14fa8648",
   "metadata": {},
   "outputs": [],
   "source": [
    "test_statistic , p_value = stats.ttest_ind(Unit_A , Unit_B)"
   ]
  },
  {
   "cell_type": "code",
   "execution_count": 12,
   "id": "5ce4a1f0",
   "metadata": {},
   "outputs": [
    {
     "name": "stdout",
     "output_type": "stream",
     "text": [
      "0.7228688704678063 0.4722394724599501\n"
     ]
    }
   ],
   "source": [
    "print(test_statistic , p_value)"
   ]
  },
  {
   "cell_type": "code",
   "execution_count": 13,
   "id": "84f80086",
   "metadata": {},
   "outputs": [],
   "source": [
    "alpha = 0.05"
   ]
  },
  {
   "cell_type": "code",
   "execution_count": 15,
   "id": "1cc7def6",
   "metadata": {},
   "outputs": [
    {
     "name": "stdout",
     "output_type": "stream",
     "text": [
      "There is a no significance difference in the daimeter of the cutlet between two units\n"
     ]
    }
   ],
   "source": [
    "if p_value < alpha :\n",
    "    print(\"There is a significance difference in the daimeter of the cutlet between two units\")\n",
    "else : \n",
    "    print(\"There is a no significance difference in the daimeter of the cutlet between two units\")"
   ]
  },
  {
   "cell_type": "code",
   "execution_count": null,
   "id": "32c17c86",
   "metadata": {},
   "outputs": [],
   "source": []
  }
 ],
 "metadata": {
  "kernelspec": {
   "display_name": "Python 3 (ipykernel)",
   "language": "python",
   "name": "python3"
  },
  "language_info": {
   "codemirror_mode": {
    "name": "ipython",
    "version": 3
   },
   "file_extension": ".py",
   "mimetype": "text/x-python",
   "name": "python",
   "nbconvert_exporter": "python",
   "pygments_lexer": "ipython3",
   "version": "3.9.13"
  }
 },
 "nbformat": 4,
 "nbformat_minor": 5
}
